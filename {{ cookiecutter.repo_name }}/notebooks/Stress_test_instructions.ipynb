{
 "cells": [
  {
   "cell_type": "markdown",
   "id": "binding-background",
   "metadata": {},
   "source": [
    "# Stress Test Instructions"
   ]
  },
  {
   "cell_type": "markdown",
   "id": "natural-roller",
   "metadata": {},
   "source": [
    "## Instructions for stress test #1"
   ]
  },
  {
   "cell_type": "markdown",
   "id": "responsible-lewis",
   "metadata": {},
   "source": [
    "Stress test #1 is to be completed after finishing the following steps: \n",
    "\n",
    "Step 1: Problem Statement <br>\n",
    "Step 2: Data Acquisition <br>\n",
    "Step 3: Data Dictionary <br>\n",
    "\n",
    "\n",
    "Here are the main steps you will need to complete to finish stress test #1 \n",
    "\n",
    "1) Work with your team and decide on the final content you need to present for all the three steps outlined above.\n",
    "2) Create a notebook main.ipynb (if it already does not exist) in the notebooks folder of your project repository and this notebook add all three steps outlined above. You should have one markdown cell with each step number and title (just like above) and another markdown cell with your content.\n",
    "\n",
    "3) Make sure you commit this to the main/master branch and update the github branches of all the teammates. \n",
    "4) You will find the instructions to Ali’s Project Creation template here https://app.colaberry.com/app/network/network/206/projectinstructions\n",
    "\n",
    "5) In Ali’s project creation template, follow the instructions for creating basecamp tickets. Your team will need to create a ticket in the Data Science center for excellence and start putting your updates. \n",
    "\n",
    "6) As you move forward in your project, keep updating the ticket that your team creates. This part is essential.  \n",
    "7) Take a screenshot of the head of your dataset. I.e., put it in a pandas data frame and take a screenshot.  \n",
    "\n",
    "8) Add the Problem statement and Data Dictionary to the Readme.md of your Repo. \n",
    "\n",
    "\n",
    "For the stress test submission, upload the stress test document the same way you did for the DS1 projects (as messages in the Data Science Center of excellence, follow the instructions on Ali’s project creation document) \n",
    "\n",
    "\n",
    "\n"
   ]
  },
  {
   "cell_type": "markdown",
   "id": "collaborative-punishment",
   "metadata": {},
   "source": [
    "## Instructions for stress test #2"
   ]
  },
  {
   "cell_type": "markdown",
   "id": "marine-leonard",
   "metadata": {},
   "source": [
    "Stress test #2 is to be completed after finishing the following steps: \n",
    "\n",
    "Step 4: Feature extraction <br>\n",
    "Step 5: Data Cleaning <br>\n",
    "Step 6: EDA and Data Visualizations <br>\n",
    "Step 7: Deriving Key insights from EDA and Data visualizations <br>\n",
    "\n",
    "Step 7 is the equivalent of writing down a summary of all the things that you learnt from EDA and data visualizations. \n",
    "\n",
    "Deliverables and core things to keep in mind: \n",
    "1) Similar to what you did in stress test #1 write a message in the Data Science center for excellence. \n",
    "\n",
    "2) First part of your deliverable will be to put out Data visualizations. Make sure you put a pair plot and discuss some of the general things that you inferred from it. Then you can put all the other interesting plots. Please do not share all the plots (you may generate dozens based on how many variables you have). Try to limit the number of plots you share to a max of 10. Pick the 10 most interesting plots and discuss them. \n",
    "\n",
    "3) Make sure that you follow the instructions for plotting data as given in the data visualization section. No plots without title and axis labels. No fancy colors unless the color means something. Remember color must provide meaning!\n",
    "\n",
    "4) Your core deliverable will be step 7 where you will write down a summary of all the insights that you have gathered from the EDA. What did you learn about the features? How strong are the relationships between the target variable and the features? How much missing data did you have? What part did you have to clean. You need to present this in a sequential, clear and concise manner. The outline of the summary should follow the same sequence of steps as you carried out during the analysis i.e the first part of  your summary should be about data cleaning, what did you learn in this process? Then on the second part about EDA and then third part wrapping all of this up together.\n",
    "\n",
    "5) Make sure that you update your Main.ipynb in your main/master branch with all the content. That way we can take a look at all the steps that you have worked on\n",
    "\n",
    "6) PLEASE write a lot of comments. Write explanations for everything you are doing. Remember you are using jupyter notebooks meaning you can easily mix markdown and code so please write a small intro to what you are doing in your analysis. It's helpful for the reader and more than that. It's helpful for you in the future! \n",
    "\n",
    "\n",
    "If you have any questions on this contact: pawan@colaberry.com\n"
   ]
  },
  {
   "cell_type": "code",
   "execution_count": null,
   "id": "optional-cabinet",
   "metadata": {},
   "outputs": [],
   "source": []
  }
 ],
 "metadata": {
  "kernelspec": {
   "display_name": "Python 3",
   "language": "python",
   "name": "python3"
  },
  "language_info": {
   "codemirror_mode": {
    "name": "ipython",
    "version": 3
   },
   "file_extension": ".py",
   "mimetype": "text/x-python",
   "name": "python",
   "nbconvert_exporter": "python",
   "pygments_lexer": "ipython3",
   "version": "3.8.5"
  }
 },
 "nbformat": 4,
 "nbformat_minor": 5
}
